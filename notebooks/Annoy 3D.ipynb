{
 "cells": [
  {
   "cell_type": "code",
   "execution_count": 15,
   "id": "811e3782-dd53-4926-9bd6-8d81ead7f516",
   "metadata": {},
   "outputs": [],
   "source": [
    "# importing the required libraries\n",
    "import pandas as pd\n",
    "import numpy as np\n",
    "import matplotlib.pyplot as plt\n",
    "import random"
   ]
  },
  {
   "cell_type": "markdown",
   "id": "889dd2fd-4c68-43fe-aac6-edafaf5769b4",
   "metadata": {},
   "source": [
    "### Random d-Dimensional embeddings generation"
   ]
  },
  {
   "cell_type": "code",
   "execution_count": 16,
   "id": "71d0dfc7-d039-4919-9959-84a0d68394ea",
   "metadata": {},
   "outputs": [],
   "source": [
    "# defining the minimum no of vectors allowed in a node\n",
    "MIN_SUBSET_SIZE=5\n",
    "DIMENSION = 2\n",
    "N_VECTORS = 10000"
   ]
  },
  {
   "cell_type": "code",
   "execution_count": 17,
   "id": "85befd4c-1e67-4425-9384-75739c57d787",
   "metadata": {},
   "outputs": [],
   "source": [
    "# function to create a synthesized data\n",
    "def generate_points(n,d):\n",
    "    \"\"\" \n",
    "    generates n no of random vectors\n",
    "    n : no of points to generate\n",
    "    d : dimensionality of vectors\n",
    "\n",
    "    \"\"\"\n",
    "    # defining the number of random embeddings (let us consider 1000 random embeddings)\n",
    "    #n_vectors = 100\n",
    "    #d = 10\n",
    "    # initializing an empty list to store the embeddings\n",
    "    vectors = []\n",
    "    # generating 1000  random embeddings\n",
    "    for i in range(n):\n",
    "        # generate a random d-dim embeddings\n",
    "        random_vector = [round(100 * random.random(), 2) for _ in range(d)]\n",
    "        vectors.append(np.array(random_vector))\n",
    "    return vectors\n",
    "\n",
    "vectors = generate_points(N_VECTORS,DIMENSION)"
   ]
  },
  {
   "cell_type": "markdown",
   "id": "76080f09-8bc6-4357-9b77-23b5003b5458",
   "metadata": {},
   "source": [
    "### Implementing the ANNOY Tree"
   ]
  },
  {
   "cell_type": "code",
   "execution_count": 18,
   "id": "6e12232b-59ca-459b-bd47-4dfdb720817c",
   "metadata": {},
   "outputs": [],
   "source": [
    "class Node:\n",
    "    def __init__(self,hyperplane=None,constant=None,values=None):\n",
    "        \"\"\"\n",
    "        PARAMETERS\n",
    "        ----------\n",
    "        hyperplane : the equation of the hyperplane equidistant from the two points\n",
    "        constant   : the constant term in the hyperplane equation\n",
    "        values     : the vectors to separate based on the hyperplane\n",
    "        \n",
    "        \"\"\"\n",
    "        self.hyperplane=hyperplane\n",
    "        self.constant = constant\n",
    "        self.values=values\n",
    "        # vectors  that lie to the left hand side of the hyperplane\n",
    "        self.left=None\n",
    "        # vectors that lie to the right hand side of the hyperplane\n",
    "        self.right=None"
   ]
  },
  {
   "cell_type": "code",
   "execution_count": 19,
   "id": "4b15e553-fb7a-4e53-9dd8-bb26c74db1ca",
   "metadata": {},
   "outputs": [],
   "source": [
    "# find the equidistant point from the two given vectors\n",
    "def hyperplane_equation(v1:np.ndarray,v2:np.ndarray):\n",
    "    \"\"\"\n",
    "    returns the equation of the hyperplane equidistant from v1 and v2\n",
    "\n",
    "    PARAMETERS\n",
    "    ----------\n",
    "    v1 : vector1 (numpy ndarray)\n",
    "    v2 : vector2 (numpy ndarray)\n",
    "\n",
    "    RETURNS\n",
    "    -------\n",
    "    normal_vector  : normal vector to the hyperplane (numpy ndarray)\n",
    "    constant       : constant term in the hyperplane equation (float)\n",
    "    \n",
    "    \"\"\"\n",
    "    # asserting  that v1 and v2 are numpy arrays\n",
    "    assert isinstance(v1, np.ndarray),    \"v1 must be a numpy array\"\n",
    "    assert isinstance(v2, np.ndarray),    \"v2 must be a numpy array\"\n",
    "    assert v1.shape == v2.shape,          \"v1 and v2 must have the same shape\"\n",
    "    \n",
    "    # finding the normal vector\n",
    "    normal_vector = v2-v1\n",
    "    # finding the midpoint\n",
    "    midpoint = (v1+v2)/2\n",
    "    # finding the const term\n",
    "    constant = np.dot(normal_vector,midpoint)\n",
    "    return normal_vector,constant\n",
    "\n",
    "\n",
    "# checking which side of the hyperplane does the vector lies\n",
    "def check_vector_side(normal_vector,constant,vector):\n",
    "    \"\"\"\n",
    "    Returns the side to the hyperplane does the vector lies\n",
    "\n",
    "    PARAMETERS\n",
    "    -----------\n",
    "    normal_vector   : the vector normal to the hyperplane (numpy ndarray)\n",
    "    constant        : constant term in the hyperplane (float)\n",
    "    vector          : the vector whose side we want to find (numpy ndarray)\n",
    "\n",
    "    RETURNS\n",
    "    -------\n",
    "    side            : side of the hyperplane does vector lies (string)\n",
    "    \n",
    "    \"\"\"\n",
    "\n",
    "    # Assert that normal_vector and vector are numpy arrays\n",
    "    assert isinstance(normal_vector, np.ndarray),    \"normal_vector must be a numpy array\"\n",
    "    assert isinstance(vector, np.ndarray),           \"vector must be a numpy array\"\n",
    "    \n",
    "    # performing the dot product between the normal vector and vector\n",
    "    result = np.dot(normal_vector,vector)\n",
    "    if result<constant:\n",
    "        side=\"right\"\n",
    "    else:\n",
    "        side=\"left\"\n",
    "    return side"
   ]
  },
  {
   "cell_type": "code",
   "execution_count": 20,
   "id": "dc206d49-6d3f-4d3b-a3e8-08e1e8f18174",
   "metadata": {},
   "outputs": [
    {
     "data": {
      "text/plain": [
       "(array([-17.84,  -8.83]), -1016.0935500000004)"
      ]
     },
     "execution_count": 20,
     "metadata": {},
     "output_type": "execute_result"
    }
   ],
   "source": [
    "# testing the function\n",
    "hyperplane_equation(vectors[0],vectors[1])"
   ]
  },
  {
   "cell_type": "markdown",
   "id": "4dcb1840-dd23-42fe-90b5-fb1957c06807",
   "metadata": {},
   "source": [
    "### Building the ANNOY Tree\n",
    "Till both randomly selected vectors are same\n",
    "1. Find random 2 vectors from the all given vectors in the set\n",
    "2. Find a equidistant hyperplane between these two vectors\n",
    "3. Put all the vectors that are right side to the hyperplane to a set called A\n",
    "4. Put all the vectors that are left side to the hyperplane to a set called B\n",
    "5. Repeat all previous steps in both set A and B recursively"
   ]
  },
  {
   "cell_type": "code",
   "execution_count": 21,
   "id": "2439c005-0eae-43f7-b9ae-88f21cdf5c0c",
   "metadata": {},
   "outputs": [],
   "source": [
    "# building the tree\n",
    "def build_tree(vectors,min_subset_size):\n",
    "    \"\"\"\n",
    "    Recursive function builds the KD-tree using the given list of vectors\n",
    "\n",
    "    PARAMETERS\n",
    "    ----------\n",
    "    vectors          : list of all vectors\n",
    "    min_subset_size  : minimum number of points to be in a region\n",
    "    \n",
    "    \n",
    "    RETURNS\n",
    "    -------\n",
    "    cuurent_node    : the root node of the KD Tree\n",
    "    \n",
    "    \"\"\"\n",
    "\n",
    "    # assertion statements \n",
    "    assert isinstance(vectors, list),          \"vectors must be a list\"\n",
    "    assert len(vectors) > 0,                   \"vectors list cannot be empty\"\n",
    "\n",
    "    for vector in vectors:\n",
    "        assert isinstance(vector, np.ndarray), \"Each element in vectors must be a numpy array\"\n",
    "\n",
    "    assert isinstance(min_subset_size, int), \"min_subset_size must be an integer\"\n",
    "    assert min_subset_size >= 0, \"min_subset_size must be non-negative\"\n",
    "\n",
    "    # initializing values for random indices\n",
    "    idx1 = 0\n",
    "    idx2 = 0\n",
    "    while idx1==idx2:\n",
    "        # pick any two random numbers withing the number of vectors range \n",
    "        idx1 = random.randint(0,len(vectors)-1)\n",
    "        idx2 = random.randint(0,len(vectors)-1)\n",
    "        \n",
    "     # pick any two random vectors from the list of vectors \n",
    "    first_vector = vectors[idx1]\n",
    "    second_vector = vectors[idx2]\n",
    "    \n",
    "    # find the equidistant hyperplane between first vector and second vector\n",
    "    hyperplane,constant = hyperplane_equation(first_vector,second_vector)\n",
    "    # classfiy all vectors in the vectors list are on left or right with respect to hyperplane\n",
    "    left_nodes=[]\n",
    "    right_nodes=[]\n",
    "    for vector in vectors:\n",
    "        side = check_vector_side(hyperplane,constant,vector)\n",
    "        # appending the vectors that lie to the right side of the hyperplane in right nodes\n",
    "        if side==\"right\":\n",
    "            right_nodes.append(vector)\n",
    "        elif side==\"left\":\n",
    "            left_nodes.append(vector)\n",
    "            \n",
    "    # building the current  node\n",
    "    current_node = Node(hyperplane=hyperplane,constant=constant,values=vectors)\n",
    "    \n",
    "    # if the size of left node is greater than the min_subset_size (if so we need to split it further)\n",
    "    if len(left_nodes)>min_subset_size:\n",
    "        current_node.left = build_tree(left_nodes,min_subset_size)\n",
    "    else:\n",
    "        current_node.left = Node(values=left_nodes)\n",
    "\n",
    "    # if the size of left node is greater than the min_subset_size (if so we need to split it further)\n",
    "    if len(right_nodes)>min_subset_size:\n",
    "        current_node.right = build_tree(right_nodes,min_subset_size)\n",
    "    else:\n",
    "        current_node.right = Node(values=right_nodes)\n",
    "\n",
    "    return current_node"
   ]
  },
  {
   "cell_type": "code",
   "execution_count": 22,
   "id": "bdfffad8-1220-4e76-b834-e8bb106513ff",
   "metadata": {},
   "outputs": [],
   "source": [
    "# testing the build tree function\n",
    "test_tree = build_tree(vectors,MIN_SUBSET_SIZE)"
   ]
  },
  {
   "cell_type": "markdown",
   "id": "6229972c-9f45-4fe7-860b-fd8b69a53529",
   "metadata": {},
   "source": [
    "### Traversing throught the tree to find the nearest neighbors"
   ]
  },
  {
   "cell_type": "code",
   "execution_count": 23,
   "id": "bdc3e7d7-7f94-475c-a422-3a376d961189",
   "metadata": {},
   "outputs": [],
   "source": [
    "# searching for the nearest neighbors through tree\n",
    "def search(tree,query_vector):\n",
    "    \"\"\"\n",
    "    computes the nearest neighbors of the query vector by traversing through the ANNOY tree\n",
    "\n",
    "    PARAMETERS\n",
    "    ----------\n",
    "    tree         : ANNOY tree built using build_tree function (class <Node>)\n",
    "    query_vector : vector whose nearest neighbors we want to find (numpy ndarray)\n",
    "\n",
    "    RETURNS\n",
    "    -------\n",
    "    tree.values  : nearest neighbors of query vectors (list)\n",
    "    \n",
    "\n",
    "    leaf node has three condition \n",
    "    1. the size of values attribute of the leaf node is less than the min_subset_size \n",
    "    2. the hyperplane attribute of the leaf node is None (as there is no hyperplane needed to split the node further if the first conditon is satisfied )\n",
    "    3. the constant attribute of the leaf node is None  (as there is no hyperplane needed to split the node further if the first conditon is satisfied )\n",
    "    \n",
    "    \"\"\"\n",
    "\n",
    "    # Assertion statements \n",
    "    assert isinstance(tree, Node), \"tree must be an instance of the Node class\"\n",
    "    assert isinstance(query_vector, np.ndarray), \"query_vector must be a numpy array\"\n",
    "    assert len(tree.values) > 0, \"tree.values cannot be empty\"\n",
    "    assert tree.values[0].shape == query_vector.shape, \"query_vector must have the same dimensions as the vectors in the tree\"\n",
    "\n",
    "    \n",
    "    # traversing till we reach leaves\n",
    "    while len(tree.values)>MIN_SUBSET_SIZE and tree.hyperplane is not None and tree.constant is not None:\n",
    "        # checking the side of the vector sample\n",
    "        side = check_vector_side(tree.hyperplane,tree.constant,query_vector)\n",
    "        if side==\"left\":  \n",
    "            # print(f\"go to left {len(tree.values)}\")\n",
    "            tree = tree.left\n",
    "        elif side==\"right\":\n",
    "            # print(f\"go to right {len(tree.values)}\")\n",
    "            tree = tree.right\n",
    "    \n",
    "    return tree.values"
   ]
  },
  {
   "cell_type": "code",
   "execution_count": null,
   "id": "867710df-fec6-4226-af3b-c5d0ecec06b8",
   "metadata": {},
   "outputs": [],
   "source": []
  },
  {
   "cell_type": "code",
   "execution_count": 24,
   "id": "0c388fd6-67de-4cac-b811-8ca82adcf81c",
   "metadata": {},
   "outputs": [
    {
     "name": "stdout",
     "output_type": "stream",
     "text": [
      "[array([50.01, 49.91]), array([50.84, 50.7 ]), array([51.08, 50.29]), array([50.18, 49.87]), array([51.42, 51.09])]\n"
     ]
    }
   ],
   "source": [
    "# testing the search function\n",
    "sample =  np.array([50 for _ in range(DIMENSION)])\n",
    "nearest_neighbors = search(test_tree,sample)\n",
    "print(nearest_neighbors)"
   ]
  },
  {
   "cell_type": "code",
   "execution_count": 43,
   "id": "4b4334e4-9f90-424b-a3d4-0af1029c9192",
   "metadata": {},
   "outputs": [
    {
     "name": "stdout",
     "output_type": "stream",
     "text": [
      "[[(50.01, 49.91), (50.84, 50.7), (51.08, 50.29), (50.18, 49.87), (51.42, 51.09)]] \n",
      "\n",
      "[[(50.01, 49.91), (50.84, 50.7), (51.08, 50.29), (50.18, 49.87), (51.42, 51.09)], [(50.01, 49.91), (50.84, 50.7), (51.08, 50.29), (50.18, 49.87), (51.42, 51.09)]] \n",
      "\n",
      "[[(50.01, 49.91), (50.84, 50.7), (51.08, 50.29), (50.18, 49.87), (51.42, 51.09)], [(50.01, 49.91), (50.84, 50.7), (51.08, 50.29), (50.18, 49.87), (51.42, 51.09)], [(50.01, 49.91), (50.84, 50.7), (51.08, 50.29), (50.18, 49.87), (51.42, 51.09)]] \n",
      "\n"
     ]
    }
   ],
   "source": [
    "from functools import reduce\n",
    "\n",
    "\n",
    "def result(tree,query_vector,n=3):\n",
    "    # defining an empty list to store the results \n",
    "    result = []\n",
    "    # defining an empty list for storing KD Trees\n",
    "    trees = []\n",
    "    for i in range(n):\n",
    "        # building a KD tree and searhcing for nearest neighbors\n",
    "        i_tree = build_tree(vectors,MIN_SUBSET_SIZE)\n",
    "        trees.append(i_tree)\n",
    "        nearest_vectors = search(tree,query_vector)\n",
    "        tupled_vectors = [tuple(vector) for vector in nearest_vectors]\n",
    "        result.append(tupled_vectors)\n",
    "        print(result,'\\n')\n",
    "    # eliminating duplicate\n",
    "    result_final = list(reduce(lambda x, y: x+y,result))\n",
    "    nearest_neighbors = [np.array(t) for t in set(result_final)] \n",
    "    return  nearest_neighbors\n",
    "\n",
    "results,_ = result(test_tree,sample)"
   ]
  },
  {
   "cell_type": "code",
   "execution_count": 37,
   "id": "ec08a6a6-9f2b-415e-890f-a9030e28b6ca",
   "metadata": {},
   "outputs": [
    {
     "name": "stdout",
     "output_type": "stream",
     "text": [
      "<class 'numpy.ndarray'>\n"
     ]
    }
   ],
   "source": [
    "print(type(_[0]))"
   ]
  },
  {
   "cell_type": "code",
   "execution_count": 26,
   "id": "8bbaa04b-35b5-4abd-9ee6-d5cc3377a221",
   "metadata": {},
   "outputs": [
    {
     "data": {
      "text/plain": [
       "[array([50.01, 49.91]),\n",
       " array([51.08, 50.29]),\n",
       " array([50.84, 50.7 ]),\n",
       " array([50.18, 49.87]),\n",
       " array([51.42, 51.09])]"
      ]
     },
     "execution_count": 26,
     "metadata": {},
     "output_type": "execute_result"
    }
   ],
   "source": [
    "results"
   ]
  },
  {
   "cell_type": "markdown",
   "id": "c8d845a5-e425-45b1-a7b3-f3b031d24aa5",
   "metadata": {},
   "source": [
    "### Visualizing "
   ]
  },
  {
   "cell_type": "code",
   "execution_count": 11,
   "id": "7e2de593-31be-49f0-81bb-25b7916bf337",
   "metadata": {},
   "outputs": [
    {
     "data": {
      "image/png": "[encoded data removed]",
      "text/plain": [
       "<Figure size 700x700 with 1 Axes>"
      ]
     },
     "metadata": {},
     "output_type": "display_data"
    }
   ],
   "source": [
    "# visualizing the embeddings\n",
    "fig = plt.figure(figsize=(7,7))\n",
    "for i in range(N_VECTORS):\n",
    "    plt.scatter(vectors[i][0],vectors[i][1],c=\"black\",marker=\"x\")\n",
    "for j in nearest_neighbors:\n",
    "    plt.scatter(j[0],j[1],c=\"red\",marker=\"x\")\n",
    "    \n",
    "plt.scatter(sample[0],sample[1],c=\"yellow\",marker=\"x\")\n",
    "plt.show()"
   ]
  },
  {
   "cell_type": "code",
   "execution_count": null,
   "id": "b656faa0-9389-4cd7-94a3-de97fef6c72e",
   "metadata": {},
   "outputs": [],
   "source": []
  },
  {
   "cell_type": "code",
   "execution_count": 44,
   "id": "60a3c7df-35e8-41e3-a544-9bb38559aad8",
   "metadata": {},
   "outputs": [],
   "source": [
    "from scipy.spatial.distance import cosine, euclidean, cityblock\n",
    "import numpy as np\n",
    "\n",
    "def get_nearest_neighbors(vectors, query_vector, k=3, metric=\"cosine\"):\n",
    "    \"\"\"\n",
    "    Finds the K nearest neighbors from a given list of vectors.\n",
    "\n",
    "    PARAMETERS\n",
    "    ----------\n",
    "    vectors : list of numpy.ndarray\n",
    "        List of vectors to search for neighbors.\n",
    "    query_vector : numpy.ndarray\n",
    "        The vector whose nearest neighbors are to be found.\n",
    "    k : int\n",
    "        The number of nearest neighbors to find.\n",
    "    metric : str\n",
    "        The distance metric to use ('cosine', 'euclidean', 'manhattan').\n",
    "\n",
    "    RETURNS\n",
    "    -------\n",
    "    nearest_neighbors : list of numpy.ndarray\n",
    "        List of the k nearest neighbors.\n",
    "    \"\"\"\n",
    "\n",
    "    # Dictionary to map metric names to functions\n",
    "    metric_func = {\n",
    "        \"cosine\": cosine,\n",
    "        \"euclidean\": euclidean,\n",
    "        \"manhattan\": cityblock\n",
    "    }\n",
    "\n",
    "    # Validate the metric\n",
    "    if metric not in metric_func:\n",
    "        raise ValueError(f\"Unsupported metric: {metric}. Supported metrics are 'cosine', 'euclidean', 'manhattan'.\")\n",
    "\n",
    "    # Calculate distances from query_vector to all vectors\n",
    "    distances = []\n",
    "    for vector in vectors:\n",
    "        distance = metric_func[metric](query_vector, vector)\n",
    "        distances.append((distance, vector))\n",
    "\n",
    "    # Sort the distances and get the top K nearest neighbors\n",
    "    distances.sort(key=lambda x: x[0])\n",
    "    nearest_neighbors = [vector for _, vector in distances[:k]]\n",
    "\n",
    "    return nearest_neighbors"
   ]
  },
  {
   "cell_type": "code",
   "execution_count": 45,
   "id": "6f54d591-a087-4ba1-b270-2888d8d587cc",
   "metadata": {},
   "outputs": [
    {
     "name": "stdout",
     "output_type": "stream",
     "text": [
      "[array([0.49387174, 0.44421249, 0.15314018]), array([0.62327598, 0.30424154, 0.42882975]), array([0.49863603, 0.01072763, 0.47155407])]\n"
     ]
    }
   ],
   "source": [
    "# Example usage\n",
    "vectors = [np.random.rand(3) for _ in range(10)]  # Generating some random 3D vectors\n",
    "query_vector = np.random.rand(3)\n",
    "\n",
    "nearest_neighbors = get_nearest_neighbors(vectors, query_vector, k=3, metric=\"euclidean\")\n",
    "print(nearest_neighbors)"
   ]
  },
  {
   "cell_type": "code",
   "execution_count": null,
   "id": "cefff2e3-e6cd-4b1c-a978-63450474c83d",
   "metadata": {},
   "outputs": [],
   "source": []
  }
 ],
 "metadata": {
  "kernelspec": {
   "display_name": "Python 3 (ipykernel)",
   "language": "python",
   "name": "python3"
  },
  "language_info": {
   "codemirror_mode": {
    "name": "ipython",
    "version": 3
   },
   "file_extension": ".py",
   "mimetype": "text/x-python",
   "name": "python",
   "nbconvert_exporter": "python",
   "pygments_lexer": "ipython3",
   "version": "3.11.7"
  }
 },
 "nbformat": 4,
 "nbformat_minor": 5
}
